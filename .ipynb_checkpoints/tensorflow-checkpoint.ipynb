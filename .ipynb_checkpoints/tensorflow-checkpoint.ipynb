{
 "cells": [
  {
   "cell_type": "code",
   "execution_count": 1,
   "id": "5ac9ac71",
   "metadata": {
    "scrolled": true
   },
   "outputs": [],
   "source": [
    "import os\n",
    "import pathlib\n",
    "if \"models\" in pathlib.Path.cwd().parts:\n",
    "  while \"models\" in pathlib.Path.cwd().parts:\n",
    "    os.chdir('..')\n",
    "elif not pathlib.Path('models').exists():\n",
    "  !git clone --depth 1 https://github.com/tensorflow/models"
   ]
  },
  {
   "cell_type": "code",
   "execution_count": null,
   "id": "50ebf275",
   "metadata": {},
   "outputs": [],
   "source": [
    "# instal tensorflow models from here \n",
    "# https://github.com/tensorflow/models.git"
   ]
  },
  {
   "cell_type": "code",
   "execution_count": 3,
   "id": "e38a71ce",
   "metadata": {},
   "outputs": [
    {
     "name": "stdout",
     "output_type": "stream",
     "text": [
      "Collecting tensorflow\n",
      "  Using cached tensorflow-2.8.0-cp39-cp39-win_amd64.whl (438.0 MB)\n",
      "Collecting flatbuffers>=1.12\n",
      "  Using cached flatbuffers-2.0-py2.py3-none-any.whl (26 kB)\n",
      "Requirement already satisfied: setuptools in c:\\users\\mt\\anaconda3\\lib\\site-packages (from tensorflow) (58.0.4)\n",
      "Collecting gast>=0.2.1\n",
      "  Using cached gast-0.5.3-py3-none-any.whl (19 kB)\n",
      "Requirement already satisfied: typing-extensions>=3.6.6 in c:\\users\\mt\\anaconda3\\lib\\site-packages (from tensorflow) (3.10.0.2)\n",
      "Collecting opt-einsum>=2.3.2\n",
      "  Using cached opt_einsum-3.3.0-py3-none-any.whl (65 kB)\n",
      "Collecting termcolor>=1.1.0\n",
      "  Using cached termcolor-1.1.0-py3-none-any.whl\n",
      "Collecting protobuf>=3.9.2\n",
      "  Downloading protobuf-3.20.0-cp39-cp39-win_amd64.whl (904 kB)\n",
      "Collecting absl-py>=0.4.0\n",
      "  Using cached absl_py-1.0.0-py3-none-any.whl (126 kB)\n",
      "Collecting tensorflow-io-gcs-filesystem>=0.23.1\n",
      "  Using cached tensorflow_io_gcs_filesystem-0.24.0-cp39-cp39-win_amd64.whl (1.5 MB)\n",
      "Collecting grpcio<2.0,>=1.24.3\n",
      "  Using cached grpcio-1.44.0-cp39-cp39-win_amd64.whl (3.4 MB)\n",
      "Requirement already satisfied: numpy>=1.20 in c:\\users\\mt\\anaconda3\\lib\\site-packages (from tensorflow) (1.20.3)\n",
      "Collecting libclang>=9.0.1\n",
      "  Using cached libclang-13.0.0-py2.py3-none-win_amd64.whl (13.9 MB)\n",
      "Requirement already satisfied: six>=1.12.0 in c:\\users\\mt\\anaconda3\\lib\\site-packages (from tensorflow) (1.16.0)\n",
      "Requirement already satisfied: h5py>=2.9.0 in c:\\users\\mt\\anaconda3\\lib\\site-packages (from tensorflow) (3.2.1)\n",
      "Collecting keras-preprocessing>=1.1.1\n",
      "  Using cached Keras_Preprocessing-1.1.2-py2.py3-none-any.whl (42 kB)\n",
      "Collecting keras<2.9,>=2.8.0rc0\n",
      "  Using cached keras-2.8.0-py2.py3-none-any.whl (1.4 MB)\n",
      "Collecting tensorboard<2.9,>=2.8\n",
      "  Using cached tensorboard-2.8.0-py3-none-any.whl (5.8 MB)\n",
      "Collecting google-pasta>=0.1.1\n",
      "  Using cached google_pasta-0.2.0-py3-none-any.whl (57 kB)\n",
      "Requirement already satisfied: wrapt>=1.11.0 in c:\\users\\mt\\anaconda3\\lib\\site-packages (from tensorflow) (1.12.1)\n",
      "Collecting tf-estimator-nightly==2.8.0.dev2021122109\n",
      "  Using cached tf_estimator_nightly-2.8.0.dev2021122109-py2.py3-none-any.whl (462 kB)\n",
      "Collecting astunparse>=1.6.0\n",
      "  Using cached astunparse-1.6.3-py2.py3-none-any.whl (12 kB)\n",
      "Requirement already satisfied: wheel<1.0,>=0.23.0 in c:\\users\\mt\\anaconda3\\lib\\site-packages (from astunparse>=1.6.0->tensorflow) (0.37.0)\n",
      "Collecting google-auth<3,>=1.6.3\n",
      "  Downloading google_auth-2.6.3-py2.py3-none-any.whl (156 kB)\n",
      "Requirement already satisfied: werkzeug>=0.11.15 in c:\\users\\mt\\anaconda3\\lib\\site-packages (from tensorboard<2.9,>=2.8->tensorflow) (2.0.2)\n",
      "Collecting tensorboard-plugin-wit>=1.6.0\n",
      "  Using cached tensorboard_plugin_wit-1.8.1-py3-none-any.whl (781 kB)\n",
      "Requirement already satisfied: requests<3,>=2.21.0 in c:\\users\\mt\\anaconda3\\lib\\site-packages (from tensorboard<2.9,>=2.8->tensorflow) (2.26.0)\n",
      "Collecting tensorboard-data-server<0.7.0,>=0.6.0\n",
      "  Using cached tensorboard_data_server-0.6.1-py3-none-any.whl (2.4 kB)\n",
      "Collecting google-auth-oauthlib<0.5,>=0.4.1\n",
      "  Using cached google_auth_oauthlib-0.4.6-py2.py3-none-any.whl (18 kB)\n",
      "Collecting markdown>=2.6.8\n",
      "  Using cached Markdown-3.3.6-py3-none-any.whl (97 kB)\n",
      "Collecting rsa<5,>=3.1.4\n",
      "  Using cached rsa-4.8-py3-none-any.whl (39 kB)\n",
      "Collecting cachetools<6.0,>=2.0.0\n",
      "  Using cached cachetools-5.0.0-py3-none-any.whl (9.1 kB)\n",
      "Collecting pyasn1-modules>=0.2.1\n",
      "  Using cached pyasn1_modules-0.2.8-py2.py3-none-any.whl (155 kB)\n",
      "Collecting requests-oauthlib>=0.7.0\n",
      "  Using cached requests_oauthlib-1.3.1-py2.py3-none-any.whl (23 kB)\n",
      "Requirement already satisfied: importlib-metadata>=4.4 in c:\\users\\mt\\anaconda3\\lib\\site-packages (from markdown>=2.6.8->tensorboard<2.9,>=2.8->tensorflow) (4.8.1)\n",
      "Requirement already satisfied: zipp>=0.5 in c:\\users\\mt\\anaconda3\\lib\\site-packages (from importlib-metadata>=4.4->markdown>=2.6.8->tensorboard<2.9,>=2.8->tensorflow) (3.6.0)\n",
      "Collecting pyasn1<0.5.0,>=0.4.6\n",
      "  Using cached pyasn1-0.4.8-py2.py3-none-any.whl (77 kB)\n",
      "Requirement already satisfied: urllib3<1.27,>=1.21.1 in c:\\users\\mt\\anaconda3\\lib\\site-packages (from requests<3,>=2.21.0->tensorboard<2.9,>=2.8->tensorflow) (1.26.7)\n",
      "Requirement already satisfied: charset-normalizer~=2.0.0 in c:\\users\\mt\\anaconda3\\lib\\site-packages (from requests<3,>=2.21.0->tensorboard<2.9,>=2.8->tensorflow) (2.0.4)\n",
      "Requirement already satisfied: idna<4,>=2.5 in c:\\users\\mt\\anaconda3\\lib\\site-packages (from requests<3,>=2.21.0->tensorboard<2.9,>=2.8->tensorflow) (3.2)\n",
      "Requirement already satisfied: certifi>=2017.4.17 in c:\\users\\mt\\anaconda3\\lib\\site-packages (from requests<3,>=2.21.0->tensorboard<2.9,>=2.8->tensorflow) (2021.10.8)\n",
      "Collecting oauthlib>=3.0.0\n",
      "  Using cached oauthlib-3.2.0-py3-none-any.whl (151 kB)\n",
      "Installing collected packages: pyasn1, rsa, pyasn1-modules, oauthlib, cachetools, requests-oauthlib, google-auth, tensorboard-plugin-wit, tensorboard-data-server, protobuf, markdown, grpcio, google-auth-oauthlib, absl-py, tf-estimator-nightly, termcolor, tensorflow-io-gcs-filesystem, tensorboard, opt-einsum, libclang, keras-preprocessing, keras, google-pasta, gast, flatbuffers, astunparse, tensorflow\n",
      "Successfully installed absl-py-1.0.0 astunparse-1.6.3 cachetools-5.0.0 flatbuffers-2.0 gast-0.5.3 google-auth-2.6.3 google-auth-oauthlib-0.4.6 google-pasta-0.2.0 grpcio-1.44.0 keras-2.8.0 keras-preprocessing-1.1.2 libclang-13.0.0 markdown-3.3.6 oauthlib-3.2.0 opt-einsum-3.3.0 protobuf-3.20.0 pyasn1-0.4.8 pyasn1-modules-0.2.8 requests-oauthlib-1.3.1 rsa-4.8 tensorboard-2.8.0 tensorboard-data-server-0.6.1 tensorboard-plugin-wit-1.8.1 tensorflow-2.8.0 tensorflow-io-gcs-filesystem-0.24.0 termcolor-1.1.0 tf-estimator-nightly-2.8.0.dev2021122109\n"
     ]
    }
   ],
   "source": [
    "!pip install tensorflow"
   ]
  },
  {
   "cell_type": "code",
   "execution_count": 4,
   "id": "ed84a4e5",
   "metadata": {},
   "outputs": [],
   "source": [
    "import numpy as np\n",
    "import os\n",
    "import six.moves.urllib as urllib\n",
    "import sys\n",
    "import tarfile\n",
    "import tensorflow as tf\n",
    "import zipfile\n",
    "import pathlib\n",
    "from collections import defaultdict\n",
    "from io import StringIO\n",
    "from matplotlib import pyplot as plt\n",
    "from PIL import Image\n",
    "from IPython.display import display"
   ]
  },
  {
   "cell_type": "code",
   "execution_count": 6,
   "id": "8c344833",
   "metadata": {},
   "outputs": [
    {
     "name": "stdout",
     "output_type": "stream",
     "text": [
      "Collecting tensorflow-object-detection-api\n",
      "  Using cached tensorflow_object_detection_api-0.1.1-py3-none-any.whl\n",
      "Requirement already satisfied: tensorflow in c:\\users\\mt\\anaconda3\\lib\\site-packages (from tensorflow-object-detection-api) (2.8.0)\n",
      "Requirement already satisfied: matplotlib in c:\\users\\mt\\anaconda3\\lib\\site-packages (from tensorflow-object-detection-api) (3.4.3)\n",
      "Requirement already satisfied: Cython>=0.28.1 in c:\\users\\mt\\anaconda3\\lib\\site-packages (from tensorflow-object-detection-api) (0.29.24)\n",
      "Requirement already satisfied: wheel in c:\\users\\mt\\anaconda3\\lib\\site-packages (from tensorflow-object-detection-api) (0.37.0)\n",
      "Requirement already satisfied: Pillow>=1.0 in c:\\users\\mt\\anaconda3\\lib\\site-packages (from tensorflow-object-detection-api) (8.4.0)\n",
      "Requirement already satisfied: contextlib2 in c:\\users\\mt\\anaconda3\\lib\\site-packages (from tensorflow-object-detection-api) (0.6.0.post1)\n",
      "Requirement already satisfied: jupyter in c:\\users\\mt\\anaconda3\\lib\\site-packages (from tensorflow-object-detection-api) (1.0.0)\n",
      "Requirement already satisfied: lxml in c:\\users\\mt\\anaconda3\\lib\\site-packages (from tensorflow-object-detection-api) (4.6.3)\n",
      "Requirement already satisfied: Protobuf in c:\\users\\mt\\anaconda3\\lib\\site-packages (from tensorflow-object-detection-api) (3.20.0)\n",
      "Collecting twine\n",
      "  Downloading twine-4.0.0-py3-none-any.whl (36 kB)\n",
      "Requirement already satisfied: python-dateutil>=2.7 in c:\\users\\mt\\anaconda3\\lib\\site-packages (from matplotlib->tensorflow-object-detection-api) (2.8.2)\n",
      "Requirement already satisfied: pyparsing>=2.2.1 in c:\\users\\mt\\anaconda3\\lib\\site-packages (from matplotlib->tensorflow-object-detection-api) (3.0.4)\n",
      "Requirement already satisfied: kiwisolver>=1.0.1 in c:\\users\\mt\\anaconda3\\lib\\site-packages (from matplotlib->tensorflow-object-detection-api) (1.3.1)\n",
      "Requirement already satisfied: cycler>=0.10 in c:\\users\\mt\\anaconda3\\lib\\site-packages (from matplotlib->tensorflow-object-detection-api) (0.10.0)\n",
      "Requirement already satisfied: numpy>=1.16 in c:\\users\\mt\\anaconda3\\lib\\site-packages (from matplotlib->tensorflow-object-detection-api) (1.20.3)\n",
      "Requirement already satisfied: six in c:\\users\\mt\\anaconda3\\lib\\site-packages (from cycler>=0.10->matplotlib->tensorflow-object-detection-api) (1.16.0)\n",
      "Requirement already satisfied: nbconvert in c:\\users\\mt\\anaconda3\\lib\\site-packages (from jupyter->tensorflow-object-detection-api) (6.1.0)\n",
      "Requirement already satisfied: qtconsole in c:\\users\\mt\\anaconda3\\lib\\site-packages (from jupyter->tensorflow-object-detection-api) (5.1.1)\n",
      "Requirement already satisfied: jupyter-console in c:\\users\\mt\\anaconda3\\lib\\site-packages (from jupyter->tensorflow-object-detection-api) (6.4.0)\n",
      "Requirement already satisfied: notebook in c:\\users\\mt\\anaconda3\\lib\\site-packages (from jupyter->tensorflow-object-detection-api) (6.4.5)\n",
      "Requirement already satisfied: ipywidgets in c:\\users\\mt\\anaconda3\\lib\\site-packages (from jupyter->tensorflow-object-detection-api) (7.6.5)\n",
      "Requirement already satisfied: ipykernel in c:\\users\\mt\\anaconda3\\lib\\site-packages (from jupyter->tensorflow-object-detection-api) (6.4.1)\n",
      "Requirement already satisfied: tornado<7.0,>=4.2 in c:\\users\\mt\\anaconda3\\lib\\site-packages (from ipykernel->jupyter->tensorflow-object-detection-api) (6.1)\n",
      "Requirement already satisfied: ipython-genutils in c:\\users\\mt\\anaconda3\\lib\\site-packages (from ipykernel->jupyter->tensorflow-object-detection-api) (0.2.0)\n",
      "Requirement already satisfied: jupyter-client<8.0 in c:\\users\\mt\\anaconda3\\lib\\site-packages (from ipykernel->jupyter->tensorflow-object-detection-api) (6.1.12)\n",
      "Requirement already satisfied: debugpy<2.0,>=1.0.0 in c:\\users\\mt\\anaconda3\\lib\\site-packages (from ipykernel->jupyter->tensorflow-object-detection-api) (1.4.1)\n",
      "Requirement already satisfied: traitlets<6.0,>=4.1.0 in c:\\users\\mt\\anaconda3\\lib\\site-packages (from ipykernel->jupyter->tensorflow-object-detection-api) (5.1.0)\n",
      "Requirement already satisfied: matplotlib-inline<0.2.0,>=0.1.0 in c:\\users\\mt\\anaconda3\\lib\\site-packages (from ipykernel->jupyter->tensorflow-object-detection-api) (0.1.2)\n",
      "Requirement already satisfied: ipython<8.0,>=7.23.1 in c:\\users\\mt\\anaconda3\\lib\\site-packages (from ipykernel->jupyter->tensorflow-object-detection-api) (7.29.0)\n",
      "Requirement already satisfied: setuptools>=18.5 in c:\\users\\mt\\anaconda3\\lib\\site-packages (from ipython<8.0,>=7.23.1->ipykernel->jupyter->tensorflow-object-detection-api) (58.0.4)\n",
      "Requirement already satisfied: jedi>=0.16 in c:\\users\\mt\\anaconda3\\lib\\site-packages (from ipython<8.0,>=7.23.1->ipykernel->jupyter->tensorflow-object-detection-api) (0.18.0)\n",
      "Requirement already satisfied: pygments in c:\\users\\mt\\anaconda3\\lib\\site-packages (from ipython<8.0,>=7.23.1->ipykernel->jupyter->tensorflow-object-detection-api) (2.10.0)\n",
      "Requirement already satisfied: backcall in c:\\users\\mt\\anaconda3\\lib\\site-packages (from ipython<8.0,>=7.23.1->ipykernel->jupyter->tensorflow-object-detection-api) (0.2.0)\n",
      "Requirement already satisfied: decorator in c:\\users\\mt\\anaconda3\\lib\\site-packages (from ipython<8.0,>=7.23.1->ipykernel->jupyter->tensorflow-object-detection-api) (5.1.0)\n",
      "Requirement already satisfied: colorama in c:\\users\\mt\\anaconda3\\lib\\site-packages (from ipython<8.0,>=7.23.1->ipykernel->jupyter->tensorflow-object-detection-api) (0.4.4)\n",
      "Requirement already satisfied: prompt-toolkit!=3.0.0,!=3.0.1,<3.1.0,>=2.0.0 in c:\\users\\mt\\anaconda3\\lib\\site-packages (from ipython<8.0,>=7.23.1->ipykernel->jupyter->tensorflow-object-detection-api) (3.0.20)\n",
      "Requirement already satisfied: pickleshare in c:\\users\\mt\\anaconda3\\lib\\site-packages (from ipython<8.0,>=7.23.1->ipykernel->jupyter->tensorflow-object-detection-api) (0.7.5)\n",
      "Requirement already satisfied: parso<0.9.0,>=0.8.0 in c:\\users\\mt\\anaconda3\\lib\\site-packages (from jedi>=0.16->ipython<8.0,>=7.23.1->ipykernel->jupyter->tensorflow-object-detection-api) (0.8.2)\n",
      "Requirement already satisfied: jupyter-core>=4.6.0 in c:\\users\\mt\\anaconda3\\lib\\site-packages (from jupyter-client<8.0->ipykernel->jupyter->tensorflow-object-detection-api) (4.8.1)\n",
      "Requirement already satisfied: pyzmq>=13 in c:\\users\\mt\\anaconda3\\lib\\site-packages (from jupyter-client<8.0->ipykernel->jupyter->tensorflow-object-detection-api) (22.2.1)\n",
      "Requirement already satisfied: pywin32>=1.0 in c:\\users\\mt\\anaconda3\\lib\\site-packages (from jupyter-core>=4.6.0->jupyter-client<8.0->ipykernel->jupyter->tensorflow-object-detection-api) (228)\n",
      "Requirement already satisfied: wcwidth in c:\\users\\mt\\anaconda3\\lib\\site-packages (from prompt-toolkit!=3.0.0,!=3.0.1,<3.1.0,>=2.0.0->ipython<8.0,>=7.23.1->ipykernel->jupyter->tensorflow-object-detection-api) (0.2.5)\n",
      "Requirement already satisfied: jupyterlab-widgets>=1.0.0 in c:\\users\\mt\\anaconda3\\lib\\site-packages (from ipywidgets->jupyter->tensorflow-object-detection-api) (1.0.0)\n",
      "Requirement already satisfied: widgetsnbextension~=3.5.0 in c:\\users\\mt\\anaconda3\\lib\\site-packages (from ipywidgets->jupyter->tensorflow-object-detection-api) (3.5.1)\n",
      "Requirement already satisfied: nbformat>=4.2.0 in c:\\users\\mt\\anaconda3\\lib\\site-packages (from ipywidgets->jupyter->tensorflow-object-detection-api) (5.1.3)\n",
      "Requirement already satisfied: jsonschema!=2.5.0,>=2.4 in c:\\users\\mt\\anaconda3\\lib\\site-packages (from nbformat>=4.2.0->ipywidgets->jupyter->tensorflow-object-detection-api) (3.2.0)\n",
      "Requirement already satisfied: pyrsistent>=0.14.0 in c:\\users\\mt\\anaconda3\\lib\\site-packages (from jsonschema!=2.5.0,>=2.4->nbformat>=4.2.0->ipywidgets->jupyter->tensorflow-object-detection-api) (0.18.0)\n",
      "Requirement already satisfied: attrs>=17.4.0 in c:\\users\\mt\\anaconda3\\lib\\site-packages (from jsonschema!=2.5.0,>=2.4->nbformat>=4.2.0->ipywidgets->jupyter->tensorflow-object-detection-api) (21.2.0)\n",
      "Requirement already satisfied: Send2Trash>=1.5.0 in c:\\users\\mt\\anaconda3\\lib\\site-packages (from notebook->jupyter->tensorflow-object-detection-api) (1.8.0)\n",
      "Requirement already satisfied: prometheus-client in c:\\users\\mt\\anaconda3\\lib\\site-packages (from notebook->jupyter->tensorflow-object-detection-api) (0.11.0)\n",
      "Requirement already satisfied: jinja2 in c:\\users\\mt\\anaconda3\\lib\\site-packages (from notebook->jupyter->tensorflow-object-detection-api) (2.11.3)\n",
      "Requirement already satisfied: terminado>=0.8.3 in c:\\users\\mt\\anaconda3\\lib\\site-packages (from notebook->jupyter->tensorflow-object-detection-api) (0.9.4)\n",
      "Requirement already satisfied: argon2-cffi in c:\\users\\mt\\anaconda3\\lib\\site-packages (from notebook->jupyter->tensorflow-object-detection-api) (20.1.0)\n",
      "Requirement already satisfied: pywinpty>=0.5 in c:\\users\\mt\\anaconda3\\lib\\site-packages (from terminado>=0.8.3->notebook->jupyter->tensorflow-object-detection-api) (0.5.7)\n",
      "Requirement already satisfied: cffi>=1.0.0 in c:\\users\\mt\\anaconda3\\lib\\site-packages (from argon2-cffi->notebook->jupyter->tensorflow-object-detection-api) (1.14.6)\n",
      "Requirement already satisfied: pycparser in c:\\users\\mt\\anaconda3\\lib\\site-packages (from cffi>=1.0.0->argon2-cffi->notebook->jupyter->tensorflow-object-detection-api) (2.20)\n",
      "Requirement already satisfied: MarkupSafe>=0.23 in c:\\users\\mt\\anaconda3\\lib\\site-packages (from jinja2->notebook->jupyter->tensorflow-object-detection-api) (1.1.1)\n",
      "Requirement already satisfied: pandocfilters>=1.4.1 in c:\\users\\mt\\anaconda3\\lib\\site-packages (from nbconvert->jupyter->tensorflow-object-detection-api) (1.4.3)\n",
      "Requirement already satisfied: nbclient<0.6.0,>=0.5.0 in c:\\users\\mt\\anaconda3\\lib\\site-packages (from nbconvert->jupyter->tensorflow-object-detection-api) (0.5.3)\n",
      "Requirement already satisfied: mistune<2,>=0.8.1 in c:\\users\\mt\\anaconda3\\lib\\site-packages (from nbconvert->jupyter->tensorflow-object-detection-api) (0.8.4)\n",
      "Requirement already satisfied: testpath in c:\\users\\mt\\anaconda3\\lib\\site-packages (from nbconvert->jupyter->tensorflow-object-detection-api) (0.5.0)\n",
      "Requirement already satisfied: defusedxml in c:\\users\\mt\\anaconda3\\lib\\site-packages (from nbconvert->jupyter->tensorflow-object-detection-api) (0.7.1)\n",
      "Requirement already satisfied: jupyterlab-pygments in c:\\users\\mt\\anaconda3\\lib\\site-packages (from nbconvert->jupyter->tensorflow-object-detection-api) (0.1.2)\n",
      "Requirement already satisfied: bleach in c:\\users\\mt\\anaconda3\\lib\\site-packages (from nbconvert->jupyter->tensorflow-object-detection-api) (4.0.0)\n",
      "Requirement already satisfied: entrypoints>=0.2.2 in c:\\users\\mt\\anaconda3\\lib\\site-packages (from nbconvert->jupyter->tensorflow-object-detection-api) (0.3)\n",
      "Requirement already satisfied: async-generator in c:\\users\\mt\\anaconda3\\lib\\site-packages (from nbclient<0.6.0,>=0.5.0->nbconvert->jupyter->tensorflow-object-detection-api) (1.10)\n",
      "Requirement already satisfied: nest-asyncio in c:\\users\\mt\\anaconda3\\lib\\site-packages (from nbclient<0.6.0,>=0.5.0->nbconvert->jupyter->tensorflow-object-detection-api) (1.5.1)\n",
      "Requirement already satisfied: webencodings in c:\\users\\mt\\anaconda3\\lib\\site-packages (from bleach->nbconvert->jupyter->tensorflow-object-detection-api) (0.5.1)\n",
      "Requirement already satisfied: packaging in c:\\users\\mt\\anaconda3\\lib\\site-packages (from bleach->nbconvert->jupyter->tensorflow-object-detection-api) (21.0)\n",
      "Requirement already satisfied: qtpy in c:\\users\\mt\\anaconda3\\lib\\site-packages (from qtconsole->jupyter->tensorflow-object-detection-api) (1.10.0)\n",
      "Requirement already satisfied: keras-preprocessing>=1.1.1 in c:\\users\\mt\\anaconda3\\lib\\site-packages (from tensorflow->tensorflow-object-detection-api) (1.1.2)\n",
      "Requirement already satisfied: h5py>=2.9.0 in c:\\users\\mt\\anaconda3\\lib\\site-packages (from tensorflow->tensorflow-object-detection-api) (3.2.1)\n",
      "Requirement already satisfied: flatbuffers>=1.12 in c:\\users\\mt\\anaconda3\\lib\\site-packages (from tensorflow->tensorflow-object-detection-api) (2.0)\n",
      "Requirement already satisfied: absl-py>=0.4.0 in c:\\users\\mt\\anaconda3\\lib\\site-packages (from tensorflow->tensorflow-object-detection-api) (1.0.0)\n",
      "Requirement already satisfied: tensorboard<2.9,>=2.8 in c:\\users\\mt\\anaconda3\\lib\\site-packages (from tensorflow->tensorflow-object-detection-api) (2.8.0)\n",
      "Requirement already satisfied: tensorflow-io-gcs-filesystem>=0.23.1 in c:\\users\\mt\\anaconda3\\lib\\site-packages (from tensorflow->tensorflow-object-detection-api) (0.24.0)\n",
      "Requirement already satisfied: tf-estimator-nightly==2.8.0.dev2021122109 in c:\\users\\mt\\anaconda3\\lib\\site-packages (from tensorflow->tensorflow-object-detection-api) (2.8.0.dev2021122109)\n",
      "Requirement already satisfied: google-pasta>=0.1.1 in c:\\users\\mt\\anaconda3\\lib\\site-packages (from tensorflow->tensorflow-object-detection-api) (0.2.0)\n",
      "Requirement already satisfied: keras<2.9,>=2.8.0rc0 in c:\\users\\mt\\anaconda3\\lib\\site-packages (from tensorflow->tensorflow-object-detection-api) (2.8.0)\n",
      "Requirement already satisfied: wrapt>=1.11.0 in c:\\users\\mt\\anaconda3\\lib\\site-packages (from tensorflow->tensorflow-object-detection-api) (1.12.1)\n",
      "Requirement already satisfied: grpcio<2.0,>=1.24.3 in c:\\users\\mt\\anaconda3\\lib\\site-packages (from tensorflow->tensorflow-object-detection-api) (1.44.0)\n",
      "Requirement already satisfied: termcolor>=1.1.0 in c:\\users\\mt\\anaconda3\\lib\\site-packages (from tensorflow->tensorflow-object-detection-api) (1.1.0)\n",
      "Requirement already satisfied: opt-einsum>=2.3.2 in c:\\users\\mt\\anaconda3\\lib\\site-packages (from tensorflow->tensorflow-object-detection-api) (3.3.0)\n",
      "Requirement already satisfied: libclang>=9.0.1 in c:\\users\\mt\\anaconda3\\lib\\site-packages (from tensorflow->tensorflow-object-detection-api) (13.0.0)\n",
      "Requirement already satisfied: astunparse>=1.6.0 in c:\\users\\mt\\anaconda3\\lib\\site-packages (from tensorflow->tensorflow-object-detection-api) (1.6.3)\n",
      "Requirement already satisfied: typing-extensions>=3.6.6 in c:\\users\\mt\\anaconda3\\lib\\site-packages (from tensorflow->tensorflow-object-detection-api) (3.10.0.2)\n",
      "Requirement already satisfied: gast>=0.2.1 in c:\\users\\mt\\anaconda3\\lib\\site-packages (from tensorflow->tensorflow-object-detection-api) (0.5.3)\n",
      "Requirement already satisfied: google-auth<3,>=1.6.3 in c:\\users\\mt\\anaconda3\\lib\\site-packages (from tensorboard<2.9,>=2.8->tensorflow->tensorflow-object-detection-api) (2.6.3)\n",
      "Requirement already satisfied: tensorboard-data-server<0.7.0,>=0.6.0 in c:\\users\\mt\\anaconda3\\lib\\site-packages (from tensorboard<2.9,>=2.8->tensorflow->tensorflow-object-detection-api) (0.6.1)\n",
      "Requirement already satisfied: tensorboard-plugin-wit>=1.6.0 in c:\\users\\mt\\anaconda3\\lib\\site-packages (from tensorboard<2.9,>=2.8->tensorflow->tensorflow-object-detection-api) (1.8.1)\n",
      "Requirement already satisfied: markdown>=2.6.8 in c:\\users\\mt\\anaconda3\\lib\\site-packages (from tensorboard<2.9,>=2.8->tensorflow->tensorflow-object-detection-api) (3.3.6)\n",
      "Requirement already satisfied: google-auth-oauthlib<0.5,>=0.4.1 in c:\\users\\mt\\anaconda3\\lib\\site-packages (from tensorboard<2.9,>=2.8->tensorflow->tensorflow-object-detection-api) (0.4.6)\n",
      "Requirement already satisfied: werkzeug>=0.11.15 in c:\\users\\mt\\anaconda3\\lib\\site-packages (from tensorboard<2.9,>=2.8->tensorflow->tensorflow-object-detection-api) (2.0.2)\n",
      "Requirement already satisfied: requests<3,>=2.21.0 in c:\\users\\mt\\anaconda3\\lib\\site-packages (from tensorboard<2.9,>=2.8->tensorflow->tensorflow-object-detection-api) (2.26.0)\n",
      "Requirement already satisfied: rsa<5,>=3.1.4 in c:\\users\\mt\\anaconda3\\lib\\site-packages (from google-auth<3,>=1.6.3->tensorboard<2.9,>=2.8->tensorflow->tensorflow-object-detection-api) (4.8)\n",
      "Requirement already satisfied: pyasn1-modules>=0.2.1 in c:\\users\\mt\\anaconda3\\lib\\site-packages (from google-auth<3,>=1.6.3->tensorboard<2.9,>=2.8->tensorflow->tensorflow-object-detection-api) (0.2.8)\n",
      "Requirement already satisfied: cachetools<6.0,>=2.0.0 in c:\\users\\mt\\anaconda3\\lib\\site-packages (from google-auth<3,>=1.6.3->tensorboard<2.9,>=2.8->tensorflow->tensorflow-object-detection-api) (5.0.0)\n",
      "Requirement already satisfied: requests-oauthlib>=0.7.0 in c:\\users\\mt\\anaconda3\\lib\\site-packages (from google-auth-oauthlib<0.5,>=0.4.1->tensorboard<2.9,>=2.8->tensorflow->tensorflow-object-detection-api) (1.3.1)\n",
      "Requirement already satisfied: importlib-metadata>=4.4 in c:\\users\\mt\\anaconda3\\lib\\site-packages (from markdown>=2.6.8->tensorboard<2.9,>=2.8->tensorflow->tensorflow-object-detection-api) (4.8.1)\n",
      "Requirement already satisfied: zipp>=0.5 in c:\\users\\mt\\anaconda3\\lib\\site-packages (from importlib-metadata>=4.4->markdown>=2.6.8->tensorboard<2.9,>=2.8->tensorflow->tensorflow-object-detection-api) (3.6.0)\n",
      "Requirement already satisfied: pyasn1<0.5.0,>=0.4.6 in c:\\users\\mt\\anaconda3\\lib\\site-packages (from pyasn1-modules>=0.2.1->google-auth<3,>=1.6.3->tensorboard<2.9,>=2.8->tensorflow->tensorflow-object-detection-api) (0.4.8)\n",
      "Requirement already satisfied: idna<4,>=2.5 in c:\\users\\mt\\anaconda3\\lib\\site-packages (from requests<3,>=2.21.0->tensorboard<2.9,>=2.8->tensorflow->tensorflow-object-detection-api) (3.2)\n",
      "Requirement already satisfied: urllib3<1.27,>=1.21.1 in c:\\users\\mt\\anaconda3\\lib\\site-packages (from requests<3,>=2.21.0->tensorboard<2.9,>=2.8->tensorflow->tensorflow-object-detection-api) (1.26.7)\n",
      "Requirement already satisfied: charset-normalizer~=2.0.0 in c:\\users\\mt\\anaconda3\\lib\\site-packages (from requests<3,>=2.21.0->tensorboard<2.9,>=2.8->tensorflow->tensorflow-object-detection-api) (2.0.4)\n",
      "Requirement already satisfied: certifi>=2017.4.17 in c:\\users\\mt\\anaconda3\\lib\\site-packages (from requests<3,>=2.21.0->tensorboard<2.9,>=2.8->tensorflow->tensorflow-object-detection-api) (2021.10.8)\n",
      "Requirement already satisfied: oauthlib>=3.0.0 in c:\\users\\mt\\anaconda3\\lib\\site-packages (from requests-oauthlib>=0.7.0->google-auth-oauthlib<0.5,>=0.4.1->tensorboard<2.9,>=2.8->tensorflow->tensorflow-object-detection-api) (3.2.0)\n",
      "Collecting rfc3986>=1.4.0\n",
      "  Using cached rfc3986-2.0.0-py2.py3-none-any.whl (31 kB)\n",
      "Collecting pkginfo>=1.8.1\n",
      "  Using cached pkginfo-1.8.2-py2.py3-none-any.whl (26 kB)\n",
      "Collecting requests-toolbelt!=0.9.0,>=0.8.0\n",
      "  Using cached requests_toolbelt-0.9.1-py2.py3-none-any.whl (54 kB)\n",
      "Collecting readme-renderer>=21.0\n",
      "  Using cached readme_renderer-34.0-py3-none-any.whl (16 kB)\n",
      "Collecting rich>=12.0.0\n",
      "  Downloading rich-12.2.0-py3-none-any.whl (229 kB)\n",
      "Requirement already satisfied: keyring>=15.1 in c:\\users\\mt\\anaconda3\\lib\\site-packages (from twine->tensorflow-object-detection-api) (23.1.0)\n",
      "Requirement already satisfied: pywin32-ctypes!=0.1.0,!=0.1.1 in c:\\users\\mt\\anaconda3\\lib\\site-packages (from keyring>=15.1->twine->tensorflow-object-detection-api) (0.2.0)\n",
      "Requirement already satisfied: docutils>=0.13.1 in c:\\users\\mt\\anaconda3\\lib\\site-packages (from readme-renderer>=21.0->twine->tensorflow-object-detection-api) (0.17.1)\n",
      "Collecting commonmark<0.10.0,>=0.9.0\n",
      "  Downloading commonmark-0.9.1-py2.py3-none-any.whl (51 kB)\n",
      "Installing collected packages: commonmark, rich, rfc3986, requests-toolbelt, readme-renderer, pkginfo, twine, tensorflow-object-detection-api\n",
      "  Attempting uninstall: pkginfo\n",
      "    Found existing installation: pkginfo 1.7.1\n"
     ]
    },
    {
     "name": "stdout",
     "output_type": "stream",
     "text": [
      "    Uninstalling pkginfo-1.7.1:\n",
      "      Successfully uninstalled pkginfo-1.7.1\n",
      "Successfully installed commonmark-0.9.1 pkginfo-1.8.2 readme-renderer-34.0 requests-toolbelt-0.9.1 rfc3986-2.0.0 rich-12.2.0 tensorflow-object-detection-api-0.1.1 twine-4.0.0\n"
     ]
    }
   ],
   "source": [
    "!pip install tensorflow-object-detection-api"
   ]
  },
  {
   "cell_type": "code",
   "execution_count": 7,
   "id": "4edca08b",
   "metadata": {},
   "outputs": [],
   "source": [
    "from object_detection.utils import ops as utils_ops\n",
    "from object_detection.utils import label_map_util\n",
    "from object_detection.utils import visualization_utils as vis_util"
   ]
  },
  {
   "cell_type": "code",
   "execution_count": 8,
   "id": "9d9e2937",
   "metadata": {},
   "outputs": [],
   "source": [
    " # patch tf1 into `utils.ops`\n",
    "utils_ops.tf = tf.compat.v1\n",
    "\n",
    "# Patch the location of gfile\n",
    "tf.gfile = tf.io.gfile"
   ]
  },
  {
   "cell_type": "code",
   "execution_count": 1,
   "id": "56a88fc9",
   "metadata": {},
   "outputs": [],
   "source": [
    "def load_model(model_name):\n",
    "    base_url = 'http://download.tensorflow.org/models/object_detection/'\n",
    "    model_file = model_name + '.tar.gz'\n",
    "    model_dir = tf.keras.utils.get_file(\n",
    "    fname=model_name, \n",
    "    origin=base_url + model_file,\n",
    "    untar=True)\n",
    "    model_dir = pathlib.Path(model_dir)/\"saved_model\"\n",
    "    model = tf.saved_model.load(str(model_dir))\n",
    "    model = model.signatures['serving_default']\n",
    "    return model"
   ]
  },
  {
   "cell_type": "code",
   "execution_count": 2,
   "id": "6a053422",
   "metadata": {},
   "outputs": [
    {
     "ename": "NameError",
     "evalue": "name 'label_map_util' is not defined",
     "output_type": "error",
     "traceback": [
      "\u001b[1;31m---------------------------------------------------------------------------\u001b[0m",
      "\u001b[1;31mNameError\u001b[0m                                 Traceback (most recent call last)",
      "\u001b[1;32m~\\AppData\\Local\\Temp/ipykernel_2512/4253233032.py\u001b[0m in \u001b[0;36m<module>\u001b[1;34m\u001b[0m\n\u001b[0;32m      1\u001b[0m \u001b[0mPATH_TO_LABELS\u001b[0m \u001b[1;33m=\u001b[0m \u001b[1;34m'models/research/object_detection/data/mscoco_label_map.pbtxt'\u001b[0m\u001b[1;33m\u001b[0m\u001b[1;33m\u001b[0m\u001b[0m\n\u001b[1;32m----> 2\u001b[1;33m \u001b[0mcategory_index\u001b[0m \u001b[1;33m=\u001b[0m \u001b[0mlabel_map_util\u001b[0m\u001b[1;33m.\u001b[0m\u001b[0mcreate_category_index_from_labelmap\u001b[0m\u001b[1;33m(\u001b[0m\u001b[0mPATH_TO_LABELS\u001b[0m\u001b[1;33m,\u001b[0m \u001b[0muse_display_name\u001b[0m\u001b[1;33m=\u001b[0m\u001b[1;32mTrue\u001b[0m\u001b[1;33m)\u001b[0m\u001b[1;33m\u001b[0m\u001b[1;33m\u001b[0m\u001b[0m\n\u001b[0m",
      "\u001b[1;31mNameError\u001b[0m: name 'label_map_util' is not defined"
     ]
    }
   ],
   "source": [
    "PATH_TO_LABELS = 'models/research/object_detection/data/mscoco_label_map.pbtxt'\n",
    "category_index = label_map_util.create_category_index_from_labelmap(PATH_TO_LABELS, use_display_name=True)"
   ]
  },
  {
   "cell_type": "code",
   "execution_count": 11,
   "id": "91dc0e6f",
   "metadata": {},
   "outputs": [
    {
     "data": {
      "text/plain": [
       "[WindowsPath('models/research/object_detection/test_images/12.jpg'),\n",
       " WindowsPath('models/research/object_detection/test_images/13.jpg'),\n",
       " WindowsPath('models/research/object_detection/test_images/14.jpg'),\n",
       " WindowsPath('models/research/object_detection/test_images/15.jpg'),\n",
       " WindowsPath('models/research/object_detection/test_images/16.jpg'),\n",
       " WindowsPath('models/research/object_detection/test_images/17.jpg'),\n",
       " WindowsPath('models/research/object_detection/test_images/18.jpg'),\n",
       " WindowsPath('models/research/object_detection/test_images/9.jpg'),\n",
       " WindowsPath('models/research/object_detection/test_images/image1.jpg'),\n",
       " WindowsPath('models/research/object_detection/test_images/image2.jpg'),\n",
       " WindowsPath('models/research/object_detection/test_images/image3.jpg')]"
      ]
     },
     "execution_count": 11,
     "metadata": {},
     "output_type": "execute_result"
    }
   ],
   "source": [
    "PATH_TO_TEST_IMAGES_DIR = pathlib.Path('models/research/object_detection/test_images')\n",
    "TEST_IMAGE_PATHS = sorted(list(PATH_TO_TEST_IMAGES_DIR.glob(\"*.jpg\")))\n",
    "TEST_IMAGE_PATHS"
   ]
  },
  {
   "cell_type": "code",
   "execution_count": 12,
   "id": "2a78b90f",
   "metadata": {},
   "outputs": [
    {
     "name": "stdout",
     "output_type": "stream",
     "text": [
      "INFO:tensorflow:Saver not created because there are no variables in the graph to restore\n"
     ]
    }
   ],
   "source": [
    "model_name = 'ssd_mobilenet_v1_coco_2017_11_17'\n",
    "detection_model = load_model(model_name)"
   ]
  },
  {
   "cell_type": "code",
   "execution_count": 13,
   "id": "cc1e715f",
   "metadata": {},
   "outputs": [
    {
     "name": "stdout",
     "output_type": "stream",
     "text": [
      "[<tf.Tensor 'image_tensor:0' shape=(None, None, None, 3) dtype=uint8>]\n"
     ]
    }
   ],
   "source": [
    "print(detection_model.inputs)"
   ]
  },
  {
   "cell_type": "code",
   "execution_count": 14,
   "id": "baa4ed6b",
   "metadata": {},
   "outputs": [
    {
     "data": {
      "text/plain": [
       "{'detection_scores': tf.float32,\n",
       " 'detection_boxes': tf.float32,\n",
       " 'num_detections': tf.float32,\n",
       " 'detection_classes': tf.float32}"
      ]
     },
     "execution_count": 14,
     "metadata": {},
     "output_type": "execute_result"
    }
   ],
   "source": [
    "detection_model.output_dtypes"
   ]
  },
  {
   "cell_type": "code",
   "execution_count": 15,
   "id": "9ed5fd6a",
   "metadata": {},
   "outputs": [
    {
     "data": {
      "text/plain": [
       "{'detection_scores': TensorShape([None, 100]),\n",
       " 'detection_boxes': TensorShape([None, 100, 4]),\n",
       " 'num_detections': TensorShape([None]),\n",
       " 'detection_classes': TensorShape([None, 100])}"
      ]
     },
     "execution_count": 15,
     "metadata": {},
     "output_type": "execute_result"
    }
   ],
   "source": [
    "detection_model.output_shapes"
   ]
  },
  {
   "cell_type": "code",
   "execution_count": 35,
   "id": "4498a777",
   "metadata": {},
   "outputs": [],
   "source": [
    "def run_inference_for_single_image(model, image):\n",
    "    image = np.asarray(image)\n",
    "    input_tensor = tf.convert_to_tensor(image)\n",
    "    input_tensor = input_tensor[tf.newaxis,...]\n",
    "    output_dict = model(input_tensor)\n",
    "    num_detections = int(output_dict.pop('num_detections'))\n",
    "    output_dict = {key:value[0, :num_detections].numpy() \n",
    "                 for key,value in output_dict.items()}\n",
    "    output_dict['num_detections'] = num_detections\n",
    "    output_dict['detection_classes'] = output_dict['detection_classes'].astype(np.int64)\n",
    "    if 'detection_masks' in output_dict:\n",
    "        detection_masks_reframed = utils_ops.reframe_box_masks_to_image_masks(\n",
    "               output_dict['detection_masks'], output_dict['detection_boxes'],\n",
    "               image.shape[0], image.shape[1])      \n",
    "        detection_masks_reframed = tf.cast(detection_masks_reframed > 0.5,tf.uint8)\n",
    "        output_dict['detection_masks_reframed'] = detection_masks_reframed.numpy()\n",
    "    return output_dict"
   ]
  },
  {
   "cell_type": "code",
   "execution_count": 38,
   "id": "a26b0d87",
   "metadata": {},
   "outputs": [],
   "source": [
    "def show_inference(model, image_path):\n",
    "    image_np = image_path\n",
    "    image_np=cv2.cvtColor(image_np,cv2.COLOR_BGR2RGB)\n",
    "    output_dict = run_inference_for_single_image(model, image_np)\n",
    "    vis_util.visualize_boxes_and_labels_on_image_array(\n",
    "      image_np,\n",
    "      output_dict['detection_boxes'],\n",
    "      output_dict['detection_classes'],\n",
    "      output_dict['detection_scores'],\n",
    "      category_index,\n",
    "      instance_masks=output_dict.get('detection_masks_reframed', None),\n",
    "      use_normalized_coordinates=True,\n",
    "      line_thickness=2, min_score_thresh=0.5 )\n",
    "    \n",
    "    classes=output_dict['detection_classes'].astype(np.int64)\n",
    "    scores=output_dict['detection_scores']\n",
    "    #name = [category_index.get(class_) for class_, score in zip(classes, scores) if score > 0.8]\n",
    "    #engin = pyttsx3.init('sapi5')\n",
    "    \n",
    "    #for i in range(0,len(name)):\n",
    "        \n",
    "     #   engin.say(name[i]['name'])\n",
    "      #  engin.runAndWait()\n",
    "        \n",
    "    #print(name)\n",
    "    \n",
    "    image_np=cv2.cvtColor(image_np,cv2.COLOR_BGR2RGB)\n",
    "    \n",
    "    return image_np\n",
    "   "
   ]
  },
  {
   "cell_type": "code",
   "execution_count": 34,
   "id": "4eff83d7",
   "metadata": {},
   "outputs": [
    {
     "name": "stdout",
     "output_type": "stream",
     "text": [
      "Requirement already satisfied: opencv-python in c:\\users\\mt\\anaconda3\\lib\\site-packages (4.5.5.64)\n",
      "Requirement already satisfied: numpy>=1.19.3 in c:\\users\\mt\\anaconda3\\lib\\site-packages (from opencv-python) (1.20.3)\n"
     ]
    }
   ],
   "source": [
    "!pip install opencv-python\n",
    "\n"
   ]
  },
  {
   "cell_type": "code",
   "execution_count": 40,
   "id": "eada4c88",
   "metadata": {},
   "outputs": [],
   "source": [
    "#for image....\n",
    "import cv2\n",
    "img = cv2.imread(r'18.jpg')\n",
    "img=show_inference(detection_model,img)\n",
    "cv2.imshow('IMG',img)\n",
    "cv2.waitKey(0)\n",
    "cv2.destroyAllWindows()\n",
    "#for video.....\n",
    "#import cv2\n",
    "\n",
    "#video=cv2.VideoCapture(r'D:\\videos\\Songs\\videoplayback.mp4')\n",
    "\n",
    "#while(True):\n",
    " #   ret,img=video.read()\n",
    "  #  img=show_inference(detection_model,img)\n",
    "   # cv2.imshow('LIVE',img)\n",
    "    #k=cv2.waitKey(1)\n",
    "    \n",
    " #   if(k==27):\n",
    "  #      break\n",
    "#cv2.destroyAllWindows()"
   ]
  }
 ],
 "metadata": {
  "kernelspec": {
   "display_name": "Python 3 (ipykernel)",
   "language": "python",
   "name": "python3"
  },
  "language_info": {
   "codemirror_mode": {
    "name": "ipython",
    "version": 3
   },
   "file_extension": ".py",
   "mimetype": "text/x-python",
   "name": "python",
   "nbconvert_exporter": "python",
   "pygments_lexer": "ipython3",
   "version": "3.9.7"
  }
 },
 "nbformat": 4,
 "nbformat_minor": 5
}
